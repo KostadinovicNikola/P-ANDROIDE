{
 "cells": [
  {
   "cell_type": "code",
   "execution_count": 1,
   "metadata": {},
   "outputs": [
    {
     "name": "stderr",
     "output_type": "stream",
     "text": [
      "WARNING (theano.tensor.blas): Using NumPy C-API based implementation for BLAS functions.\n"
     ]
    }
   ],
   "source": [
    "from svpg.utils import load_algo\n",
    "from svpg.algos.svpg import RBF\n",
    "\n",
    "import torch\n",
    "import torch.nn as nn\n",
    "from torch.nn.utils import parameters_to_vector\n",
    "\n",
    "from pathlib import Path"
   ]
  },
  {
   "cell_type": "code",
   "execution_count": 17,
   "metadata": {},
   "outputs": [],
   "source": [
    "action_agents, _, _, _ = load_algo(\"../runs/RllCartPoleSwingUp-v0/22-05-13/17-08-30/A2C-independent\")\n",
    "\n",
    "theta_i = action_agents[0].parameters()\n",
    "theta_j = action_agents[1].parameters()\n",
    "\n",
    "params = [\n",
    "    parameters_to_vector(action_agent.parameters())\n",
    "    for action_agent in action_agents\n",
    "]\n",
    "params = torch.stack(params)\n",
    "\n",
    "kernel = RBF()(params, params.detach())"
   ]
  },
  {
   "cell_type": "code",
   "execution_count": 41,
   "metadata": {},
   "outputs": [
    {
     "data": {
      "text/plain": [
       "'220513170830'"
      ]
     },
     "execution_count": 41,
     "metadata": {},
     "output_type": "execute_result"
    }
   ],
   "source": [
    "directory = \"../runs/RllCartPoleSwingUp-v0/22-05-13/17-08-30/\"\n",
    "(Path(directory).parent.name + Path(directory).name).replace('-', '')"
   ]
  }
 ],
 "metadata": {
  "interpreter": {
   "hash": "5a75615412e03e428e9a4c18cf4b9987160155d6a7443ebff4cfd9f3aaed23f2"
  },
  "kernelspec": {
   "display_name": "Python 3.9.9 64-bit",
   "language": "python",
   "name": "python3"
  },
  "language_info": {
   "codemirror_mode": {
    "name": "ipython",
    "version": 3
   },
   "file_extension": ".py",
   "mimetype": "text/x-python",
   "name": "python",
   "nbconvert_exporter": "python",
   "pygments_lexer": "ipython3",
   "version": "3.9.9"
  },
  "orig_nbformat": 4
 },
 "nbformat": 4,
 "nbformat_minor": 2
}
